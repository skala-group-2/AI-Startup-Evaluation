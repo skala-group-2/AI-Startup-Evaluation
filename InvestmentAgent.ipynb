{
 "cells": [
  {
   "cell_type": "code",
   "execution_count": 1,
   "metadata": {},
   "outputs": [
    {
     "data": {
      "text/plain": [
       "True"
      ]
     },
     "execution_count": 1,
     "metadata": {},
     "output_type": "execute_result"
    }
   ],
   "source": [
    "from dotenv import load_dotenv\n",
    "\n",
    "load_dotenv()"
   ]
  },
  {
   "cell_type": "code",
   "execution_count": 3,
   "metadata": {},
   "outputs": [
    {
     "ename": "ImportError",
     "evalue": "cannot import name 'RootModel' from 'pydantic' (d:\\skala_gai\\venv\\Lib\\site-packages\\pydantic\\__init__.cp311-win_amd64.pyd)",
     "output_type": "error",
     "traceback": [
      "\u001b[1;31m---------------------------------------------------------------------------\u001b[0m",
      "\u001b[1;31mImportError\u001b[0m                               Traceback (most recent call last)",
      "Cell \u001b[1;32mIn[3], line 2\u001b[0m\n\u001b[0;32m      1\u001b[0m \u001b[38;5;28;01mfrom\u001b[39;00m \u001b[38;5;21;01mtyping\u001b[39;00m \u001b[38;5;28;01mimport\u001b[39;00m TypedDict, List, Optional\n\u001b[1;32m----> 2\u001b[0m \u001b[38;5;28;01mfrom\u001b[39;00m \u001b[38;5;21;01mlangchain_core\u001b[39;00m\u001b[38;5;21;01m.\u001b[39;00m\u001b[38;5;21;01mrunnables\u001b[39;00m \u001b[38;5;28;01mimport\u001b[39;00m RunnableLambda\n\u001b[0;32m      3\u001b[0m \u001b[38;5;28;01mfrom\u001b[39;00m \u001b[38;5;21;01mlangchain_core\u001b[39;00m\u001b[38;5;21;01m.\u001b[39;00m\u001b[38;5;21;01moutput_parsers\u001b[39;00m \u001b[38;5;28;01mimport\u001b[39;00m StrOutputParser\n\u001b[0;32m      4\u001b[0m \u001b[38;5;28;01mfrom\u001b[39;00m \u001b[38;5;21;01mlangchain_core\u001b[39;00m\u001b[38;5;21;01m.\u001b[39;00m\u001b[38;5;21;01mprompts\u001b[39;00m \u001b[38;5;28;01mimport\u001b[39;00m PromptTemplate\n",
      "File \u001b[1;32md:\\skala_gai\\venv\\Lib\\site-packages\\langchain_core\\runnables\\__init__.py:129\u001b[0m, in \u001b[0;36m__getattr__\u001b[1;34m(attr_name)\u001b[0m\n\u001b[0;32m    127\u001b[0m \u001b[38;5;28;01mdef\u001b[39;00m \u001b[38;5;21m__getattr__\u001b[39m(attr_name: \u001b[38;5;28mstr\u001b[39m) \u001b[38;5;241m-\u001b[39m\u001b[38;5;241m>\u001b[39m \u001b[38;5;28mobject\u001b[39m:\n\u001b[0;32m    128\u001b[0m     module_name \u001b[38;5;241m=\u001b[39m _dynamic_imports\u001b[38;5;241m.\u001b[39mget(attr_name)\n\u001b[1;32m--> 129\u001b[0m     result \u001b[38;5;241m=\u001b[39m \u001b[43mimport_attr\u001b[49m\u001b[43m(\u001b[49m\u001b[43mattr_name\u001b[49m\u001b[43m,\u001b[49m\u001b[43m \u001b[49m\u001b[43mmodule_name\u001b[49m\u001b[43m,\u001b[49m\u001b[43m \u001b[49m\u001b[43m__spec__\u001b[49m\u001b[38;5;241;43m.\u001b[39;49m\u001b[43mparent\u001b[49m\u001b[43m)\u001b[49m\n\u001b[0;32m    130\u001b[0m     \u001b[38;5;28mglobals\u001b[39m()[attr_name] \u001b[38;5;241m=\u001b[39m result\n\u001b[0;32m    131\u001b[0m     \u001b[38;5;28;01mreturn\u001b[39;00m result\n",
      "File \u001b[1;32md:\\skala_gai\\venv\\Lib\\site-packages\\langchain_core\\_import_utils.py:29\u001b[0m, in \u001b[0;36mimport_attr\u001b[1;34m(attr_name, module_name, package)\u001b[0m\n\u001b[0;32m     27\u001b[0m \u001b[38;5;28;01melse\u001b[39;00m:\n\u001b[0;32m     28\u001b[0m     \u001b[38;5;28;01mtry\u001b[39;00m:\n\u001b[1;32m---> 29\u001b[0m         module \u001b[38;5;241m=\u001b[39m \u001b[43mimport_module\u001b[49m\u001b[43m(\u001b[49m\u001b[38;5;124;43mf\u001b[39;49m\u001b[38;5;124;43m\"\u001b[39;49m\u001b[38;5;124;43m.\u001b[39;49m\u001b[38;5;132;43;01m{\u001b[39;49;00m\u001b[43mmodule_name\u001b[49m\u001b[38;5;132;43;01m}\u001b[39;49;00m\u001b[38;5;124;43m\"\u001b[39;49m\u001b[43m,\u001b[49m\u001b[43m \u001b[49m\u001b[43mpackage\u001b[49m\u001b[38;5;241;43m=\u001b[39;49m\u001b[43mpackage\u001b[49m\u001b[43m)\u001b[49m\n\u001b[0;32m     30\u001b[0m     \u001b[38;5;28;01mexcept\u001b[39;00m \u001b[38;5;167;01mModuleNotFoundError\u001b[39;00m:\n\u001b[0;32m     31\u001b[0m         msg \u001b[38;5;241m=\u001b[39m \u001b[38;5;124mf\u001b[39m\u001b[38;5;124m\"\u001b[39m\u001b[38;5;124mmodule \u001b[39m\u001b[38;5;124m'\u001b[39m\u001b[38;5;132;01m{\u001b[39;00mpackage\u001b[38;5;132;01m!r}\u001b[39;00m\u001b[38;5;124m.\u001b[39m\u001b[38;5;132;01m{\u001b[39;00mmodule_name\u001b[38;5;132;01m!r}\u001b[39;00m\u001b[38;5;124m'\u001b[39m\u001b[38;5;124m not found\u001b[39m\u001b[38;5;124m\"\u001b[39m\n",
      "File \u001b[1;32m~\\AppData\\Local\\Programs\\Python\\Python311\\Lib\\importlib\\__init__.py:126\u001b[0m, in \u001b[0;36mimport_module\u001b[1;34m(name, package)\u001b[0m\n\u001b[0;32m    124\u001b[0m             \u001b[38;5;28;01mbreak\u001b[39;00m\n\u001b[0;32m    125\u001b[0m         level \u001b[38;5;241m+\u001b[39m\u001b[38;5;241m=\u001b[39m \u001b[38;5;241m1\u001b[39m\n\u001b[1;32m--> 126\u001b[0m \u001b[38;5;28;01mreturn\u001b[39;00m \u001b[43m_bootstrap\u001b[49m\u001b[38;5;241;43m.\u001b[39;49m\u001b[43m_gcd_import\u001b[49m\u001b[43m(\u001b[49m\u001b[43mname\u001b[49m\u001b[43m[\u001b[49m\u001b[43mlevel\u001b[49m\u001b[43m:\u001b[49m\u001b[43m]\u001b[49m\u001b[43m,\u001b[49m\u001b[43m \u001b[49m\u001b[43mpackage\u001b[49m\u001b[43m,\u001b[49m\u001b[43m \u001b[49m\u001b[43mlevel\u001b[49m\u001b[43m)\u001b[49m\n",
      "File \u001b[1;32md:\\skala_gai\\venv\\Lib\\site-packages\\langchain_core\\runnables\\base.py:40\u001b[0m\n\u001b[0;32m     25\u001b[0m \u001b[38;5;28;01mfrom\u001b[39;00m \u001b[38;5;21;01mtypes\u001b[39;00m \u001b[38;5;28;01mimport\u001b[39;00m GenericAlias\n\u001b[0;32m     26\u001b[0m \u001b[38;5;28;01mfrom\u001b[39;00m \u001b[38;5;21;01mtyping\u001b[39;00m \u001b[38;5;28;01mimport\u001b[39;00m (\n\u001b[0;32m     27\u001b[0m     TYPE_CHECKING,\n\u001b[0;32m     28\u001b[0m     Any,\n\u001b[1;32m   (...)\u001b[0m\n\u001b[0;32m     37\u001b[0m     overload,\n\u001b[0;32m     38\u001b[0m )\n\u001b[1;32m---> 40\u001b[0m \u001b[38;5;28;01mfrom\u001b[39;00m \u001b[38;5;21;01mpydantic\u001b[39;00m \u001b[38;5;28;01mimport\u001b[39;00m BaseModel, ConfigDict, Field, RootModel\n\u001b[0;32m     41\u001b[0m \u001b[38;5;28;01mfrom\u001b[39;00m \u001b[38;5;21;01mtyping_extensions\u001b[39;00m \u001b[38;5;28;01mimport\u001b[39;00m Literal, get_args, override\n\u001b[0;32m     43\u001b[0m \u001b[38;5;28;01mfrom\u001b[39;00m \u001b[38;5;21;01mlangchain_core\u001b[39;00m\u001b[38;5;21;01m.\u001b[39;00m\u001b[38;5;21;01m_api\u001b[39;00m \u001b[38;5;28;01mimport\u001b[39;00m beta_decorator\n",
      "\u001b[1;31mImportError\u001b[0m: cannot import name 'RootModel' from 'pydantic' (d:\\skala_gai\\venv\\Lib\\site-packages\\pydantic\\__init__.cp311-win_amd64.pyd)"
     ]
    }
   ],
   "source": [
    "from typing import TypedDict, List, Optional\n",
    "from langchain_core.runnables import RunnableLambda\n",
    "from langchain_core.output_parsers import StrOutputParser\n",
    "from langchain_core.prompts import PromptTemplate\n",
    "from langchain_openai import ChatOpenAI"
   ]
  },
  {
   "cell_type": "code",
   "execution_count": 139,
   "metadata": {},
   "outputs": [],
   "source": [
    "from GraphState import GraphState"
   ]
  },
  {
   "cell_type": "code",
   "execution_count": 140,
   "metadata": {},
   "outputs": [],
   "source": [
    "# LLM 정의\n",
    "llm = ChatOpenAI(\n",
    "    model=\"gpt-3.5-turbo-0125\",  # 또는 \"gpt-3.5-turbo\"\n",
    "    temperature=0.3\n",
    ")"
   ]
  },
  {
   "cell_type": "code",
   "execution_count": 141,
   "metadata": {},
   "outputs": [],
   "source": [
    "# 프롬프트 템플릿 정의\n",
    "investment_prompt = PromptTemplate.from_template(\"\"\"\n",
    "다음은 특정 스타트업에 대한 3가지 분석 보고서입니다.\n",
    "\n",
    "[기술 분석 보고서]\n",
    "{tech_report}\n",
    "\n",
    "[경쟁사 비교 보고서]\n",
    "{competitor_report}\n",
    "\n",
    "[시장 분석 보고서]\n",
    "{market_report}\n",
    "\n",
    "위의 정보를 바탕으로, 아래 3가지 항목을 평가해 주세요:\n",
    "회사명: (스타트업의 회사명)\n",
    "\n",
    "1. **시장성 평가**\n",
    "   - 점수 (0~10점)\n",
    "   - 설명 (시장 성장 가능성, 진입장벽, 수요 등 포함)\n",
    "\n",
    "2. **제품 기술력 평가**\n",
    "   - 점수 (0~10점)\n",
    "   - 설명 (핵심 기술, 독창성, 확장성 등 포함)\n",
    "\n",
    "3. **경쟁 우위 평가**\n",
    "   - 점수 (0~10점)\n",
    "   - 설명 (경쟁사 대비 차별성, 지속 가능성 등 포함)\n",
    "\n",
    "---\n",
    "\n",
    "4. 최종 평가\n",
    "\n",
    "- 최종 점수 = 시장성*0.5 + 기술력*0.3 + 경쟁우위*0.2 (소수점 둘째 자리까지)\n",
    "- 총평: 전반적인 투자 판단과 함께, 고려할 만한 리스크 요인 등을 간단히 요약\n",
    "\"\"\")"
   ]
  },
  {
   "cell_type": "code",
   "execution_count": 142,
   "metadata": {},
   "outputs": [],
   "source": [
    "# 에이전트 함수 정의\n",
    "def investment_analysis_agent(state: GraphState) -> GraphState:\n",
    "    prompt = investment_prompt.format(\n",
    "        tech_report=state[\"tech_report\"],\n",
    "        competitor_report=state[\"competitor_report\"],\n",
    "        market_report=state[\"market_report\"],\n",
    "    )\n",
    "    investment_summary_msg = llm.invoke(prompt)\n",
    "    investment_summary = investment_summary_msg.content\n",
    "    report = f\"\"\"\n",
    "    [{state[\"current_company\"]} 보고서]\n",
    "\n",
    "    A. 기술 분석\n",
    "    {state[\"tech_report\"]}\n",
    "\n",
    "    B. 경쟁사 비교\n",
    "    {state[\"competitor_report\"]}\n",
    "\n",
    "    C. 시장 분석\n",
    "    {state[\"market_report\"]}\n",
    "\n",
    "    D. 투자 평가\n",
    "    {investment_summary}\n",
    "    \"\"\"\n",
    "    return {\n",
    "        **state,\n",
    "        \"investment_summary\": report\n",
    "    }"
   ]
  },
  {
   "cell_type": "code",
   "execution_count": 143,
   "metadata": {},
   "outputs": [],
   "source": [
    "def validate_report(state: GraphState) -> str:\n",
    "    summary = state[\"investment_summary\"]\n",
    "\n",
    "    eval_prompt = f\"\"\"\n",
    "당신은 벤처 캐피탈의 투자 심사관으로, 아래 투자 분석 보고서가 출력 형식과 품질 기준을 잘 따르고 있는지 평가해야 합니다.\n",
    "\n",
    "투자 분석 보고서:\n",
    "\n",
    "------------------------\n",
    "{summary}\n",
    "------------------------\n",
    "\n",
    "다음 기준에 따라 판단하세요:\n",
    "\n",
    "1. **시장성 평가, 제품 기술력 평가, 경쟁 우위 평가 항목의 점수가 0~10 사이의 정수인지**\n",
    "2. **시장성 평가, 제품 기술력 평가, 경쟁 우위 평가 항목의 설명이 해당 점수에 대한 타당한 설명으로 충분한지**\n",
    "3. **최종 평가의 점수가 0~10 사이의 소수(float)인지**\n",
    "4. **최종평가가 종합적인 평가로서 자연스럽고 논리적인지**\n",
    "\n",
    "판단 결과는 아래 기준에 따라 선택하세요:\n",
    "\n",
    "- **PASS**: 모든 항목의 형식과 설명이 정확하며 논리적으로 납득 가능함\n",
    "- **RETRY**: 일부 설명이 부족하거나 점수가 애매하지만 수정 가능함\n",
    "- **FAIL**: 형식 오류나 설명 누락 등으로 활용 불가능함\n",
    "\n",
    "단 한 단어만 출력하세요: `PASS`, `RETRY`, `FAIL`\n",
    "\"\"\"\n",
    "\n",
    "    judgment = llm.invoke(eval_prompt).content.strip().upper()\n",
    "\n",
    "    if judgment not in [\"PASS\", \"RETRY\", \"FAIL\"]:\n",
    "        print(state.get(\"investment_summary_retry_count\", 0))\n",
    "        judgment = \"RETRY\" if state.get(\"investment_summary_retry_count\", 0) < 1 else \"FAIL\"\n",
    "\n",
    "    return judgment"
   ]
  },
  {
   "cell_type": "code",
   "execution_count": 144,
   "metadata": {},
   "outputs": [],
   "source": [
    "# 재시도 시 카운트 증가\n",
    "def increment_retry(state: GraphState) -> GraphState:\n",
    "    \n",
    "    return {**state, \"investment_summary_retry_count\": state.get(\"investment_summary_retry_count\", 0) + 1}"
   ]
  },
  {
   "cell_type": "code",
   "execution_count": 145,
   "metadata": {},
   "outputs": [],
   "source": [
    "def validate_final_report(report: str, retry_count: int = 0) -> str:\n",
    "    eval_prompt = f\"\"\"\n",
    "당신은 벤처 캐피탈의 투자 심사관으로, 아래 투자 분석 보고서가 출력 형식과 품질 기준을 잘 따르고 있는지 평가해야 합니다.\n",
    "\n",
    "투자 분석 보고서:\n",
    "\n",
    "------------------------\n",
    "{report}\n",
    "------------------------\n",
    "\n",
    "다음 기준에 따라 판단하세요:\n",
    "\n",
    "1. **시장성 평가, 제품 기술력 평가, 경쟁 우위 평가 항목의 점수가 0~10 사이의 정수인지**\n",
    "2. **각 항목에 대한 설명이 해당 점수에 대한 타당한 설명으로 충분한지**\n",
    "3. **최종 평가의 점수가 0~10 사이의 소수(float)인지**\n",
    "4. **최종평가가 종합적인 평가로서 자연스럽고 논리적인지**\n",
    "\n",
    "판단 결과는 아래 중 하나로 선택하세요:\n",
    "\n",
    "- **PASS**: 모든 항목의 형식과 설명이 정확하며 논리적으로 납득 가능함\n",
    "- **RETRY**: 일부 설명이 부족하거나 점수가 애매하지만 수정 가능함\n",
    "- **FAIL**: 형식 오류나 설명 누락 등으로 활용 불가능함\n",
    "\n",
    "단 한 단어만 출력하세요: `PASS`, `RETRY`, `FAIL`\n",
    "\"\"\"\n",
    "\n",
    "    judgment = llm.invoke(eval_prompt).content.strip().upper()\n",
    "    if judgment not in [\"PASS\", \"RETRY\", \"FAIL\"]:\n",
    "        judgment = \"RETRY\" if retry_count < 2 else \"FAIL\"\n",
    "    return judgment"
   ]
  },
  {
   "cell_type": "code",
   "execution_count": 146,
   "metadata": {},
   "outputs": [],
   "source": [
    "def save_markdown(text: str, filename: str = \"투자_최종_보고서.md\", silent: bool = False):\n",
    "    with open(filename, \"w\", encoding=\"utf-8\") as f:\n",
    "        f.write(text)\n",
    "    if not silent:\n",
    "        print(f\"✅ Markdown 파일 저장 완료: {filename}\")\n",
    "\n",
    "\n",
    "def final_report_agent_with_state(state: GraphState, max_retries: int = 3) -> dict:\n",
    "    max_retries: int = 3\n",
    "    reports = state.get(\"reports\")\n",
    "    full_report = \"\"\n",
    "    for text in reports:\n",
    "        full_report = full_report + \"\\n\" + text\n",
    "\n",
    "    for i in range(max_retries):\n",
    "        prompt = f\"\"\"\n",
    "    당신은 벤처캐피탈의 투자 분석 보고서 작성 전문가입니다.\n",
    "\n",
    "    아래는 AI 분석 에이전트들이 생성한 평가 결과를 바탕으로 구성된 텍스트입니다.\n",
    "    이 텍스트를 기반으로 다음 기준을 모두 충족하는 **최종 종합 보고서**를 작성해주세요:\n",
    "\n",
    "    1. **각 기업에 대해 점수(시장성, 기술력, 경쟁력, 최종점수)와 설명이 3줄 이상 명확하게 정리**되어야 합니다.\n",
    "    2. **최종점수 기준으로 기업들을 투자 우선순위에 따라 정렬**해야 하며 각 기업별 최종점수를 명시해주어야 합니다.\n",
    "    3. **각 기업별 투자 추천 여부 및 이유가 시장성, 기술력, 경쟁력의 요소를 바탕으로 명확하고 자세하게 작성**되어야 합니다.\n",
    "    4. **전체 산업/기술 트렌드 분석, 공통 리스크 요인, 향후 투자 전략 제안이 포함**되어야 합니다.\n",
    "    5. 모든 내용은 벤처캐피탈 보고서에 적합하도록 **논리적이고 명료한 문단 구성**으로 작성해주세요.\n",
    "\n",
    "    ------------------------\n",
    "    {full_report}\n",
    "    ------------------------\n",
    "    \"\"\"\n",
    "\n",
    "        # 보고서 생성\n",
    "        final_report = llm.invoke(prompt).content.strip()\n",
    "\n",
    "    # 저장은 마지막에만, 메시지도 여기서만 출력\n",
    "    save_markdown(final_report, silent=False)\n",
    "\n",
    "    return {\n",
    "        **state,\n",
    "        \"final_report\": final_report,\n",
    "    }"
   ]
  },
  {
   "cell_type": "code",
   "execution_count": 147,
   "metadata": {},
   "outputs": [],
   "source": [
    "from MarketReportAgent import market_agent\n",
    "from CompetitorReportAgent import competitor_agent\n",
    "from TechReportAgent import tech_agent"
   ]
  },
  {
   "cell_type": "code",
   "execution_count": 148,
   "metadata": {},
   "outputs": [],
   "source": [
    "STARTUP_LIST = [\"업스테이지\", \"노타AI\", \"트웰브랩스\", \"뤼이드\", \"에어스메디컬\"]"
   ]
  },
  {
   "cell_type": "code",
   "execution_count": 149,
   "metadata": {},
   "outputs": [],
   "source": [
    "from langgraph.graph import StateGraph, END\n",
    "\n",
    "def role_dispatch_agent(state: GraphState) -> GraphState:\n",
    "    idx = state[\"current_index\"]\n",
    "    company = STARTUP_LIST[idx]\n",
    "    return {\n",
    "        \"current_index\": idx,\n",
    "        \"current_company\": company\n",
    "    }\n",
    "\n",
    "def increment_index(state: GraphState) -> GraphState:\n",
    "    summary = state.get(\"investment_summary\", \"[요약 없음]\")\n",
    "    reports = state.get(\"reports\", [])\n",
    "    print(state[\"current_index\"])\n",
    "    return {\n",
    "        **state,\n",
    "        \"current_index\": state[\"current_index\"] + 1,\n",
    "        \"tech_report\": None,\n",
    "        \"competitor_report\": None,\n",
    "        \"market_report\": None,\n",
    "        \"investment_summary\": None,\n",
    "        \"investment_summary_retry_count\": 0,\n",
    "        \"reports\": reports + [summary]\n",
    "    }\n",
    "\n",
    "def final_report_agent(state: GraphState) -> GraphState:\n",
    "    all_reports = \"\\n\\n\".join(state[\"reports\"])\n",
    "    prompt = f\"\"\"\n",
    "다음은 다섯 개 기업에 대한 투자 판단 보고서입니다:\n",
    "\n",
    "{all_reports}\n",
    "\n",
    "이 보고서를 바탕으로 전체적인 투자 전략 및 종합 의견을 작성해주세요.\n",
    "\"\"\"\n",
    "    final = llm.invoke(prompt).content\n",
    "    return {\n",
    "        **state,\n",
    "        \"final_report\": final\n",
    "    }\n",
    "\n",
    "def check_continue(state: GraphState) -> str:\n",
    "    return \"continue\" if state[\"current_index\"] < len(STARTUP_LIST) else \"done\"\n",
    "# ----------------------------------------\n",
    "# LangGraph 구성\n",
    "# ----------------------------------------\n",
    "\n",
    "builder = StateGraph(GraphState)\n",
    "\n",
    "# 노드 등록\n",
    "builder.add_node(\"dispatch\", RunnableLambda(role_dispatch_agent))\n",
    "builder.add_node(\"tech\", RunnableLambda(tech_agent))\n",
    "builder.add_node(\"competitor\", RunnableLambda(competitor_agent))\n",
    "builder.add_node(\"market\", RunnableLambda(market_agent))\n",
    "# builder.add_node(\"join\", join([\"dispatch\", \"tech\", \"competitor\", \"market\"]))\n",
    "builder.add_node(\"investment_report\", RunnableLambda(investment_analysis_agent))\n",
    "builder.add_node(\"increment_retry\", RunnableLambda(increment_retry))\n",
    "builder.add_node(\"final\", RunnableLambda(final_report_agent_with_state))\n",
    "builder.add_node(\"increment_index\", RunnableLambda(increment_index))\n",
    "builder.add_node(\"check_ready\", RunnableLambda(lambda x: x))\n",
    "\n",
    "# 병렬 실행처럼 동작하도록 edge 연결 (각각 따로)\n",
    "builder.set_entry_point(\"dispatch\")\n",
    "builder.add_edge(\"dispatch\", \"tech\")\n",
    "builder.add_edge(\"tech\", \"competitor\")\n",
    "builder.add_edge(\"competitor\", \"market\")\n",
    "builder.add_edge(\"market\", \"investment_report\")\n",
    "\n",
    "builder.add_conditional_edges(\"investment_report\", validate_report, {\n",
    "    \"PASS\": \"increment_index\",\n",
    "    \"RETRY\": \"increment_retry\",\n",
    "    \"FAIL\": \"increment_index\"\n",
    "})\n",
    "builder.add_edge(\"increment_retry\", \"investment_report\")\n",
    "builder.add_conditional_edges(\"increment_index\", check_continue, {\n",
    "    \"continue\": \"dispatch\",\n",
    "    \"done\": \"final\"\n",
    "})\n",
    "builder.add_edge(\"final\", END)\n",
    "\n",
    "graph = builder.compile()\n"
   ]
  },
  {
   "cell_type": "code",
   "execution_count": 150,
   "metadata": {},
   "outputs": [],
   "source": [
    "STARTUP_LIST = [\"업스테이지\", \"노타AI\", \"트웰브랩스\", \"뤼이드\", \"에어스메디컬\"]\n",
    "\n",
    "test_state = {\n",
    "    \"current_index\": 0,\n",
    "    \"investment_summary_retry_count\": 0\n",
    "}"
   ]
  },
  {
   "cell_type": "code",
   "execution_count": 151,
   "metadata": {},
   "outputs": [
    {
     "name": "stdout",
     "output_type": "stream",
     "text": [
      "0\n",
      "1\n",
      "2\n",
      "3\n",
      "4\n",
      "✅ Markdown 파일 저장 완료: 투자_최종_보고서.md\n"
     ]
    }
   ],
   "source": [
    "\n",
    "final_state = graph.invoke(test_state, config={\"recursion_limit\": 50})"
   ]
  },
  {
   "cell_type": "code",
   "execution_count": 153,
   "metadata": {},
   "outputs": [
    {
     "name": "stdout",
     "output_type": "stream",
     "text": [
      "[최종 종합 보고서]\n",
      "\n",
      "**투자 우선순위:**\n",
      "\n",
      "1. **트웰브랩스**\n",
      "   - 최종 점수: 8.3\n",
      "   - **투자 추천 여부 및 이유:**\n",
      "     - 시장성: 의료 분야의 음성 기록 자동화에 대한 수요와 기술력을 바탕으로 높은 시장성을 보이고 있음.\n",
      "     - 기술력: 딥러닝 기반 음성 인식 엔진의 우수한 성능과 의료 분야에 특화된 알고리즘으로 기술력이 뛰어남.\n",
      "     - 경쟁력: 모바일 환경에 적합한 모델 경량화로 차별성을 가지고 있지만, 경쟁사들의 기술력과 시장 점유율을 고려하면 경쟁 우위가 부족함.\n",
      "\n",
      "2. **업스테이지**\n",
      "   - 최종 점수: 8.3\n",
      "   - **투자 추천 여부 및 이유:**\n",
      "     - 시장성: 의료 분야의 음성 기록 자동화에 대한 수요와 독창적인 알고리즘을 통해 높은 시장성을 보임.\n",
      "     - 기술력: 낮은 지연시간과 높은 인식률을 보이는 딥러닝 기반 음성 인식 엔진으로 기술력이 우수함.\n",
      "     - 경쟁력: 모델 경량화로 모바일 환경에 적합하나, 경쟁사들의 기술력과 시장 점유율을 고려하면 경쟁 우위가 부족함.\n",
      "\n",
      "3. **뤼이드**\n",
      "   - 최종 점수: 8.1\n",
      "   - **투자 추천 여부 및 이유:**\n",
      "     - 시장성: 의료 분야의 음성 기록 자동화에 대한 수요와 독창적인 알고리즘을 통해 높은 시장성을 보임.\n",
      "     - 기술력: 낮은 지연시간과 높은 인식률을 보이는 딥러닝 기반 음성 인식 엔진으로 기술력이 우수함.\n",
      "     - 경쟁력: 모델 경량화로 모바일 환경에 적합하나, 경쟁사들의 기술력과 시장 점유율을 고려하면 경쟁 우위가 부족함.\n",
      "\n",
      "**산업/기술 트렌드 분석:**\n",
      "- 의료 분야의 음성 기록 자동화 기술이 주목받고 있으며, 딥러닝 기술을 활용한 음성 인식 엔진의 발전이 빠르게 이루어지고 있음.\n",
      "- 모바일 환경에 적합한 경량화 기술이 중요시되며, 의료 분야에서의 활용 가능성이 높아지고 있음.\n",
      "\n",
      "**공통 리스크 요인:**\n",
      "- 경쟁사들의 기술력과 시장 점유율이 높아 경쟁이 치열할 수 있음.\n",
      "- 의료 분야의 규제와 보안 문제로 인한 리스크가 존재할 수 있음.\n",
      "\n",
      "**향후 투자 전략 제안:**\n",
      "- 기업들은 기술력과 경쟁력을 강화하고, 시장 성장 가능성을 높이기 위해 지속적인 연구 및 개발을 진행해야 함.\n",
      "- 산업 트렌드를 주시하며, 새로운 기술 동향에 대한 빠른 대응이 필요함.\n"
     ]
    }
   ],
   "source": [
    "print(final_state[\"final_report\"])  # 전체 요약 보고서"
   ]
  },
  {
   "cell_type": "code",
   "execution_count": 154,
   "metadata": {},
   "outputs": [
    {
     "data": {
      "text/plain": [
       "['\\n    [업스테이지 보고서]\\n\\n    A. 기술 분석\\n    \\n업스테이지는 자체 개발한 딥러닝 기반 음성 인식 엔진을 보유하고 있으며, 경쟁사 대비 낮은 지연시간과 높은 인식률을 보인다는 점에서 기술력이 뛰어나다. 특히 의료 분야의 음성 기록 자동화에 특화된 알고리즘이 독창적이며, 이를 통해 다양한 의료 분야로 확장할 수 있는 가능성이 있다.\\n    \\n\\n    B. 경쟁사 비교\\n    \\n업스테이지는 주요 경쟁사는 클라우드 인프라와 병원 시스템과의 연동성이 뛰어나지만, 이 스타트업은 모델 경량화로 인해 모바일 환경에 더 적합하다는 점에서 차별성을 갖고 있다. 그러나 경쟁사들의 기술력과 시장 점유율을 고려하면 지속 가능성에 대한 확신은 아직 부족하다.\\n    \\n\\n    C. 시장 분석\\n    \\n업스테이지는 자체 개발한 딥러닝 기반 음성 인식 엔진을 보유하고 있으며, 경쟁사 대비 낮은 지연시간과 높은 인식률을 보인다는 점에서 기술력이 뛰어나다. 특히 의료 분야의 음성 기록 자동화에 특화된 알고리즘이 독창적이며, 이를 통해 다양한 의료 분야로 확장할 수 있는 가능성이 있다.\\n    \\n\\n    D. 투자 평가\\n    1. **시장성 평가**\\n   - 점수: 8\\n   - 설명: 의료 분야의 음성 기록 자동화에 대한 수요가 높아지고 있으며, 업스테이지의 기술력과 독창적인 알고리즘을 통해 시장 성장 가능성이 크다. 또한, 음성 기록 자동화의 진입장벽이 높아 다른 기업들이 쉽게 진입하기 어렵다.\\n\\n2. **제품 기술력 평가**\\n   - 점수: 9\\n   - 설명: 업스테이지의 딥러닝 기반 음성 인식 엔진은 경쟁사 대비 낮은 지연시간과 높은 인식률을 보여주며, 특히 의료 분야에 특화된 알고리즘은 독창적이고 확장성이 높다. 이러한 기술력은 기업의 성장을 뒷받침해줄 것으로 기대된다.\\n\\n3. **경쟁 우위 평가**\\n   - 점수: 7\\n   - 설명: 업스테이지는 경쟁사와 비교했을 때 모델 경량화로 모바일 환경에 더 적합하다는 차별성을 가지고 있지만, 경쟁사들의 기술력과 시장 점유율을 고려하면 아직까지는 경쟁 우위가 뚜렷하지는 않다.\\n\\n4. **최종 평가**\\n   - 최종 점수: 8.3\\n   - 총평: 업스테이지는 의료 분야의 음성 기록 자동화에 대한 수요와 기술력을 바탕으로 높은 시장성을 보이고 있으며, 제품의 기술력과 독창성 또한 뛰어나다. 하지만 경쟁 우위 측면에서는 아직 부족한 부분이 있으므로 지속적인 경쟁력 강화가 필요하다. 투자 판단 시에는 이러한 리스크 요인을 고려해야 할 것이다.\\n    ',\n",
       " '\\n    [노타AI 보고서]\\n\\n    A. 기술 분석\\n    \\n노타AI는 자체 개발한 딥러닝 기반 음성 인식 엔진을 보유하고 있으며, 경쟁사 대비 낮은 지연시간과 높은 인식률을 보인다는 점에서 기술력이 뛰어나다. 특히 의료 분야의 음성 기록 자동화에 특화된 알고리즘이 독창적이며, 이를 통해 다양한 의료 분야로 확장할 수 있는 가능성이 있다.\\n    \\n\\n    B. 경쟁사 비교\\n    \\n노타AI는 주요 경쟁사는 클라우드 인프라와 병원 시스템과의 연동성이 뛰어나지만, 이 스타트업은 모델 경량화로 인해 모바일 환경에 더 적합하다는 점에서 차별성을 갖고 있다. 그러나 경쟁사들의 기술력과 시장 점유율을 고려하면 지속 가능성에 대한 확신은 아직 부족하다.\\n    \\n\\n    C. 시장 분석\\n    \\n노타AI는 자체 개발한 딥러닝 기반 음성 인식 엔진을 보유하고 있으며, 경쟁사 대비 낮은 지연시간과 높은 인식률을 보인다는 점에서 기술력이 뛰어나다. 특히 의료 분야의 음성 기록 자동화에 특화된 알고리즘이 독창적이며, 이를 통해 다양한 의료 분야로 확장할 수 있는 가능성이 있다.\\n    \\n\\n    D. 투자 평가\\n    1. **시장성 평가**\\n   - 점수: 8점\\n   - 설명: 의료 분야의 음성 기록 자동화에 특화된 기술을 보유하고 있어 시장 성장 가능성이 높으며, 경쟁사와 비교했을 때 모바일 환경에 적합한 제품으로써 수요가 증가할 것으로 예상된다.\\n\\n2. **제품 기술력 평가**\\n   - 점수: 9점\\n   - 설명: 딥러닝 기반 음성 인식 엔진을 보유하고 있으며, 의료 분야에 특화된 알고리즘을 통해 독창성을 보여준다. 또한, 다양한 의료 분야로의 확장성이 높다.\\n\\n3. **경쟁 우위 평가**\\n   - 점수: 7점\\n   - 설명: 경쟁사와 비교했을 때 모델 경량화로 모바일 환경에 더 적합하다는 차별성을 가지고 있지만, 경쟁사들의 기술력과 시장 점유율을 고려하면 지속 가능성에 대한 확신이 부족하다.\\n\\n4. **최종 평가**\\n   - 최종 점수: 8.3\\n   - 총평: 노타AI는 의료 분야의 음성 기록 자동화에 특화된 기술력을 보유하고 있으며, 제품의 독창성과 확장성이 뛰어나다. 그러나 경쟁사와의 경쟁 우위에서는 아직 부족한 부분이 있으므로 지속적인 성장과 발전이 필요하다. 투자 시에는 경쟁사와의 경쟁력 강화와 시장 점유율 확대에 주의해야 할 것이다.\\n    ',\n",
       " '\\n    [트웰브랩스 보고서]\\n\\n    A. 기술 분석\\n    \\n트웰브랩스는 자체 개발한 딥러닝 기반 음성 인식 엔진을 보유하고 있으며, 경쟁사 대비 낮은 지연시간과 높은 인식률을 보인다는 점에서 기술력이 뛰어나다. 특히 의료 분야의 음성 기록 자동화에 특화된 알고리즘이 독창적이며, 이를 통해 다양한 의료 분야로 확장할 수 있는 가능성이 있다.\\n    \\n\\n    B. 경쟁사 비교\\n    \\n트웰브랩스는 주요 경쟁사는 클라우드 인프라와 병원 시스템과의 연동성이 뛰어나지만, 이 스타트업은 모델 경량화로 인해 모바일 환경에 더 적합하다는 점에서 차별성을 갖고 있다. 그러나 경쟁사들의 기술력과 시장 점유율을 고려하면 지속 가능성에 대한 확신은 아직 부족하다.\\n    \\n\\n    C. 시장 분석\\n    \\n트웰브랩스는 자체 개발한 딥러닝 기반 음성 인식 엔진을 보유하고 있으며, 경쟁사 대비 낮은 지연시간과 높은 인식률을 보인다는 점에서 기술력이 뛰어나다. 특히 의료 분야의 음성 기록 자동화에 특화된 알고리즘이 독창적이며, 이를 통해 다양한 의료 분야로 확장할 수 있는 가능성이 있다.\\n    \\n\\n    D. 투자 평가\\n    1. 회사명: 트웰브랩스\\n\\n1. **시장성 평가**\\n   - 점수: 8점\\n   - 설명: 의료 분야의 음성 기록 자동화에 특화된 알고리즘이 독창적이며, 다양한 의료 분야로의 확장 가능성이 있어 시장 성장 가능성이 높다. 또한, 의료 분야는 진입장벽이 높고 수요도 높기 때문에 성공할 수 있는 잠재력을 가지고 있다.\\n\\n2. **제품 기술력 평가**\\n   - 점수: 9점\\n   - 설명: 딥러닝 기반 음성 인식 엔진을 보유하고 있으며, 경쟁사 대비 낮은 지연시간과 높은 인식률을 보이는 기술력을 가지고 있다. 특히 의료 분야에 특화된 알고리즘은 독창적이며, 확장성 또한 높다.\\n\\n3. **경쟁 우위 평가**\\n   - 점수: 7점\\n   - 설명: 경쟁사 대비 모델 경량화로 모바일 환경에 더 적합하다는 차별성을 가지고 있지만, 경쟁사들의 기술력과 시장 점유율을 고려하면 아직 지속 가능성에 대한 확신이 부족하다.\\n\\n4. 최종 평가\\n- 최종 점수: 8.3점\\n- 총평: 트웰브랩스는 의료 분야의 음성 기록 자동화에 특화된 기술력을 가지고 있으며, 시장 성장 가능성과 제품 기술력이 뛰어나다. 하지만 경쟁 우위 측면에서는 아직 부족한 부분이 있어 투자 시 고려해야 할 리스크 요인이 존재한다.\\n    ',\n",
       " '\\n    [뤼이드 보고서]\\n\\n    A. 기술 분석\\n    \\n뤼이드는 자체 개발한 딥러닝 기반 음성 인식 엔진을 보유하고 있으며, 경쟁사 대비 낮은 지연시간과 높은 인식률을 보인다는 점에서 기술력이 뛰어나다. 특히 의료 분야의 음성 기록 자동화에 특화된 알고리즘이 독창적이며, 이를 통해 다양한 의료 분야로 확장할 수 있는 가능성이 있다.\\n    \\n\\n    B. 경쟁사 비교\\n    \\n뤼이드는 주요 경쟁사는 클라우드 인프라와 병원 시스템과의 연동성이 뛰어나지만, 이 스타트업은 모델 경량화로 인해 모바일 환경에 더 적합하다는 점에서 차별성을 갖고 있다. 그러나 경쟁사들의 기술력과 시장 점유율을 고려하면 지속 가능성에 대한 확신은 아직 부족하다.\\n    \\n\\n    C. 시장 분석\\n    \\n뤼이드는 자체 개발한 딥러닝 기반 음성 인식 엔진을 보유하고 있으며, 경쟁사 대비 낮은 지연시간과 높은 인식률을 보인다는 점에서 기술력이 뛰어나다. 특히 의료 분야의 음성 기록 자동화에 특화된 알고리즘이 독창적이며, 이를 통해 다양한 의료 분야로 확장할 수 있는 가능성이 있다.\\n    \\n\\n    D. 투자 평가\\n    1. **시장성 평가**\\n   - 점수: 8\\n   - 설명: 의료 분야의 음성 기록 자동화에 특화된 기술은 시장에서 큰 수요가 있을 것으로 예상되며, 뤼이드의 기술력과 독창성을 고려할 때 시장 성장 가능성이 높다. 또한, 경쟁사와 비교했을 때 진입장벽이 높아 보인다.\\n\\n2. **제품 기술력 평가**\\n   - 점수: 9\\n   - 설명: 뤼이드의 딥러닝 기반 음성 인식 엔진은 경쟁사 대비 낮은 지연시간과 높은 인식률을 보여주며, 특히 의료 분야에 특화된 알고리즘이 독창적이다. 이를 통해 다양한 의료 분야로의 확장이 가능하다.\\n\\n3. **경쟁 우위 평가**\\n   - 점수: 7\\n   - 설명: 경쟁사들과 비교했을 때 뤼이드는 모델 경량화로 인해 모바일 환경에 더 적합하다는 장점을 가지고 있지만, 경쟁사들의 기술력과 시장 점유율을 고려하면 아직 지속 가능성에 대한 확신이 부족하다.\\n\\n4. **최종 평가**\\n   - 최종 점수: 8.1\\n   - 총평: 뤼이드는 시장 성장 가능성이 높고 기술력도 뛰어나지만, 경쟁사와의 경쟁 우위에서는 아직 부족한 부분이 있을 수 있다. 투자 시에는 경쟁사의 움직임과 시장 변화에 대한 리스크를 고려해야 할 것이다.\\n    ',\n",
       " '\\n    [에어스메디컬 보고서]\\n\\n    A. 기술 분석\\n    \\n에어스메디컬는 자체 개발한 딥러닝 기반 음성 인식 엔진을 보유하고 있으며, 경쟁사 대비 낮은 지연시간과 높은 인식률을 보인다는 점에서 기술력이 뛰어나다. 특히 의료 분야의 음성 기록 자동화에 특화된 알고리즘이 독창적이며, 이를 통해 다양한 의료 분야로 확장할 수 있는 가능성이 있다.\\n    \\n\\n    B. 경쟁사 비교\\n    \\n에어스메디컬는 주요 경쟁사는 클라우드 인프라와 병원 시스템과의 연동성이 뛰어나지만, 이 스타트업은 모델 경량화로 인해 모바일 환경에 더 적합하다는 점에서 차별성을 갖고 있다. 그러나 경쟁사들의 기술력과 시장 점유율을 고려하면 지속 가능성에 대한 확신은 아직 부족하다.\\n    \\n\\n    C. 시장 분석\\n    \\n에어스메디컬는 자체 개발한 딥러닝 기반 음성 인식 엔진을 보유하고 있으며, 경쟁사 대비 낮은 지연시간과 높은 인식률을 보인다는 점에서 기술력이 뛰어나다. 특히 의료 분야의 음성 기록 자동화에 특화된 알고리즘이 독창적이며, 이를 통해 다양한 의료 분야로 확장할 수 있는 가능성이 있다.\\n    \\n\\n    D. 투자 평가\\n    1. **시장성 평가**\\n   - 점수: 8점\\n   - 설명: 의료 분야의 음성 기록 자동화에 대한 수요가 높아지고 있으며, 에어스메디컬의 기술력과 독창성을 고려할 때 시장 성장 가능성이 크다. 하지만 경쟁사와의 경쟁이 치열하므로 진입장벽은 높을 수 있다.\\n\\n2. **제품 기술력 평가**\\n   - 점수: 9점\\n   - 설명: 에어스메디컬의 딥러닝 기반 음성 인식 엔진은 경쟁사 대비 우수한 성능을 보여주며, 의료 분야에서의 확장 가능성이 크다. 독창적인 알고리즘을 보유하고 있어 기술력이 뛰어나다.\\n\\n3. **경쟁 우위 평가**\\n   - 점수: 7점\\n   - 설명: 경쟁사 대비 모바일 환경에 더 적합한 모델 경량화로 차별성을 가지고 있지만, 아직까지 경쟁사들의 기술력과 시장 점유율을 고려하면 지속 가능성에 대한 확신이 부족하다.\\n\\n4. **최종 평가**\\n   - 최종 점수: 8.1점\\n   - 총평: 에어스메디컬은 시장성과 제품 기술력에서 뛰어나지만, 경쟁 우위 부분에서 약간의 부족함이 보인다. 투자 시에는 경쟁사와의 경쟁력 강화와 지속 가능성을 더 신중히 고려해야 할 것이다.\\n    ']"
      ]
     },
     "execution_count": 154,
     "metadata": {},
     "output_type": "execute_result"
    }
   ],
   "source": [
    "final_state[\"reports\"]"
   ]
  }
 ],
 "metadata": {
  "kernelspec": {
   "display_name": "venv",
   "language": "python",
   "name": "python3"
  },
  "language_info": {
   "codemirror_mode": {
    "name": "ipython",
    "version": 3
   },
   "file_extension": ".py",
   "mimetype": "text/x-python",
   "name": "python",
   "nbconvert_exporter": "python",
   "pygments_lexer": "ipython3",
   "version": "3.11.0"
  }
 },
 "nbformat": 4,
 "nbformat_minor": 2
}
